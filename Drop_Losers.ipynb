{
 "cells": [
  {
   "cell_type": "code",
   "execution_count": 6,
   "metadata": {},
   "outputs": [
    {
     "data": {
      "text/html": [
       "<div>\n",
       "<style scoped>\n",
       "    .dataframe tbody tr th:only-of-type {\n",
       "        vertical-align: middle;\n",
       "    }\n",
       "\n",
       "    .dataframe tbody tr th {\n",
       "        vertical-align: top;\n",
       "    }\n",
       "\n",
       "    .dataframe thead th {\n",
       "        text-align: right;\n",
       "    }\n",
       "</style>\n",
       "<table border=\"1\" class=\"dataframe\">\n",
       "  <thead>\n",
       "    <tr style=\"text-align: right;\">\n",
       "      <th></th>\n",
       "      <th>arm</th>\n",
       "      <th>stage</th>\n",
       "      <th>data</th>\n",
       "    </tr>\n",
       "  </thead>\n",
       "  <tbody>\n",
       "    <tr>\n",
       "      <th>0</th>\n",
       "      <td>4</td>\n",
       "      <td>0</td>\n",
       "      <td>0.200000</td>\n",
       "    </tr>\n",
       "    <tr>\n",
       "      <th>1</th>\n",
       "      <td>4</td>\n",
       "      <td>0</td>\n",
       "      <td>3.000000</td>\n",
       "    </tr>\n",
       "    <tr>\n",
       "      <th>2</th>\n",
       "      <td>4</td>\n",
       "      <td>0</td>\n",
       "      <td>2.300000</td>\n",
       "    </tr>\n",
       "    <tr>\n",
       "      <th>3</th>\n",
       "      <td>2</td>\n",
       "      <td>0</td>\n",
       "      <td>3.000000</td>\n",
       "    </tr>\n",
       "    <tr>\n",
       "      <th>4</th>\n",
       "      <td>2</td>\n",
       "      <td>0</td>\n",
       "      <td>4.000000</td>\n",
       "    </tr>\n",
       "    <tr>\n",
       "      <th>5</th>\n",
       "      <td>2</td>\n",
       "      <td>0</td>\n",
       "      <td>5.000000</td>\n",
       "    </tr>\n",
       "    <tr>\n",
       "      <th>6</th>\n",
       "      <td>3</td>\n",
       "      <td>0</td>\n",
       "      <td>0.000000</td>\n",
       "    </tr>\n",
       "    <tr>\n",
       "      <th>7</th>\n",
       "      <td>3</td>\n",
       "      <td>0</td>\n",
       "      <td>-1.000000</td>\n",
       "    </tr>\n",
       "    <tr>\n",
       "      <th>8</th>\n",
       "      <td>4</td>\n",
       "      <td>1</td>\n",
       "      <td>-0.813845</td>\n",
       "    </tr>\n",
       "    <tr>\n",
       "      <th>9</th>\n",
       "      <td>4</td>\n",
       "      <td>1</td>\n",
       "      <td>-0.768368</td>\n",
       "    </tr>\n",
       "    <tr>\n",
       "      <th>10</th>\n",
       "      <td>2</td>\n",
       "      <td>1</td>\n",
       "      <td>0.350801</td>\n",
       "    </tr>\n",
       "    <tr>\n",
       "      <th>11</th>\n",
       "      <td>2</td>\n",
       "      <td>1</td>\n",
       "      <td>0.463823</td>\n",
       "    </tr>\n",
       "    <tr>\n",
       "      <th>12</th>\n",
       "      <td>2</td>\n",
       "      <td>1</td>\n",
       "      <td>-0.902218</td>\n",
       "    </tr>\n",
       "    <tr>\n",
       "      <th>13</th>\n",
       "      <td>2</td>\n",
       "      <td>1</td>\n",
       "      <td>1.131737</td>\n",
       "    </tr>\n",
       "    <tr>\n",
       "      <th>14</th>\n",
       "      <td>2</td>\n",
       "      <td>1</td>\n",
       "      <td>-1.907540</td>\n",
       "    </tr>\n",
       "  </tbody>\n",
       "</table>\n",
       "</div>"
      ],
      "text/plain": [
       "    arm  stage      data\n",
       "0     4      0  0.200000\n",
       "1     4      0  3.000000\n",
       "2     4      0  2.300000\n",
       "3     2      0  3.000000\n",
       "4     2      0  4.000000\n",
       "5     2      0  5.000000\n",
       "6     3      0  0.000000\n",
       "7     3      0 -1.000000\n",
       "8     4      1 -0.813845\n",
       "9     4      1 -0.768368\n",
       "10    2      1  0.350801\n",
       "11    2      1  0.463823\n",
       "12    2      1 -0.902218\n",
       "13    2      1  1.131737\n",
       "14    2      1 -1.907540"
      ]
     },
     "execution_count": 6,
     "metadata": {},
     "output_type": "execute_result"
    }
   ],
   "source": [
    "import numpy as np, pandas as pd\n",
    "\n",
    "from selectinf.randomized.drop_losers import drop_losers\n",
    "data = np.array([0.2,3,2.3,3,4,5,0,-1] + list(np.random.standard_normal(7)))\n",
    "df = pd.DataFrame({'arm':[4,4,4,2,2,2,3,3,4,4,2,2,2,2,2], 'stage':[0,0,0,0,0,0,0,0,1,1,1,1,1,1,1], 'data':data})\n",
    "df"
   ]
  },
  {
   "cell_type": "code",
   "execution_count": 7,
   "metadata": {},
   "outputs": [
    {
     "data": {
      "text/plain": [
       "(arm\n",
       " 2    1.392075\n",
       " 3   -0.500000\n",
       " 4    0.783557\n",
       " Name: data, dtype: float64, arm\n",
       " 2    2.407392\n",
       " 3    0.707107\n",
       " 4    1.768681\n",
       " Name: data, dtype: float64)"
      ]
     },
     "execution_count": 7,
     "metadata": {},
     "output_type": "execute_result"
    }
   ],
   "source": [
    "grouped = df.groupby('arm')\n",
    "grouped.mean()['data'], grouped.std()['data']"
   ]
  },
  {
   "cell_type": "code",
   "execution_count": 8,
   "metadata": {},
   "outputs": [
    {
     "name": "stdout",
     "output_type": "stream",
     "text": [
      "(0,    arm  stage  data\n",
      "0    4      0   0.2\n",
      "1    4      0   3.0\n",
      "2    4      0   2.3\n",
      "3    2      0   3.0\n",
      "4    2      0   4.0\n",
      "5    2      0   5.0\n",
      "6    3      0   0.0\n",
      "7    3      0  -1.0)\n",
      "(1,     arm  stage      data\n",
      "8     4      1 -0.813845\n",
      "9     4      1 -0.768368\n",
      "10    2      1  0.350801\n",
      "11    2      1  0.463823\n",
      "12    2      1 -0.902218\n",
      "13    2      1  1.131737\n",
      "14    2      1 -1.907540)\n"
     ]
    }
   ],
   "source": [
    "grouped_stage = df.groupby('stage')\n",
    "for a in grouped_stage:\n",
    "    print(a)"
   ]
  },
  {
   "cell_type": "code",
   "execution_count": 9,
   "metadata": {},
   "outputs": [
    {
     "name": "stdout",
     "output_type": "stream",
     "text": [
      "arm\n",
      "2    2.407392\n",
      "3    0.707107\n",
      "4    1.768681\n",
      "Name: data, dtype: float64\n",
      "arm\n",
      "2    2.407392\n",
      "4    1.768681\n",
      "Name: data, dtype: float64\n",
      "-0.5 loser\n",
      "arm\n",
      "2    1.392075\n",
      "4    0.783557\n",
      "Name: data, dtype: float64 means\n",
      "arm\n",
      "2    4.000000\n",
      "4    1.833333\n",
      "Name: data, dtype: float64\n",
      "(array([[1.207403  , 0.        ],\n",
      "       [0.        , 0.41709745]]), array([[0.82822388, 0.        ],\n",
      "       [0.        , 2.39752125]]))\n",
      "[[1.207403   0.        ]\n",
      " [0.         0.41709745]]\n",
      "[[-1. -0.]\n",
      " [-0. -1.]] [[-1. -0.]\n",
      " [-0. -1.]]\n",
      "[0.5 0.5] [0.5 0.5]\n"
     ]
    }
   ],
   "source": [
    "dtl = drop_losers(df, K=2)"
   ]
  },
  {
   "cell_type": "code",
   "execution_count": 10,
   "metadata": {},
   "outputs": [
    {
     "data": {
      "text/html": [
       "<div>\n",
       "<style scoped>\n",
       "    .dataframe tbody tr th:only-of-type {\n",
       "        vertical-align: middle;\n",
       "    }\n",
       "\n",
       "    .dataframe tbody tr th {\n",
       "        vertical-align: top;\n",
       "    }\n",
       "\n",
       "    .dataframe thead th {\n",
       "        text-align: right;\n",
       "    }\n",
       "</style>\n",
       "<table border=\"1\" class=\"dataframe\">\n",
       "  <thead>\n",
       "    <tr style=\"text-align: right;\">\n",
       "      <th></th>\n",
       "      <th>raw estimate</th>\n",
       "      <th>lower</th>\n",
       "      <th>upper</th>\n",
       "      <th>pvalue</th>\n",
       "    </tr>\n",
       "    <tr>\n",
       "      <th>arm</th>\n",
       "      <th></th>\n",
       "      <th></th>\n",
       "      <th></th>\n",
       "      <th></th>\n",
       "    </tr>\n",
       "  </thead>\n",
       "  <tbody>\n",
       "    <tr>\n",
       "      <th>2</th>\n",
       "      <td>1.392075</td>\n",
       "      <td>0.266412</td>\n",
       "      <td>2.709993</td>\n",
       "      <td>0.077742</td>\n",
       "    </tr>\n",
       "    <tr>\n",
       "      <th>4</th>\n",
       "      <td>0.783557</td>\n",
       "      <td>0.812720</td>\n",
       "      <td>2.693072</td>\n",
       "      <td>0.217141</td>\n",
       "    </tr>\n",
       "  </tbody>\n",
       "</table>\n",
       "</div>"
      ],
      "text/plain": [
       "     raw estimate     lower     upper    pvalue\n",
       "arm                                            \n",
       "2        1.392075  0.266412  2.709993  0.077742\n",
       "4        0.783557  0.812720  2.693072  0.217141"
      ]
     },
     "execution_count": 10,
     "metadata": {},
     "output_type": "execute_result"
    }
   ],
   "source": [
    "dtl.summary()"
   ]
  }
 ],
 "metadata": {
  "jupytext": {
   "cell_metadata_filter": "all,-slideshow"
  },
  "kernelspec": {
   "display_name": "Python 3",
   "language": "python",
   "name": "python3"
  },
  "language_info": {
   "codemirror_mode": {
    "name": "ipython",
    "version": 3
   },
   "file_extension": ".py",
   "mimetype": "text/x-python",
   "name": "python",
   "nbconvert_exporter": "python",
   "pygments_lexer": "ipython3",
   "version": "3.6.2"
  }
 },
 "nbformat": 4,
 "nbformat_minor": 2
}
